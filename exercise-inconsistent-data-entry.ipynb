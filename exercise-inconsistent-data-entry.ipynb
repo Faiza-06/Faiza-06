{
 "cells": [
  {
   "cell_type": "markdown",
   "id": "ccd5a294",
   "metadata": {
    "papermill": {
     "duration": 0.006768,
     "end_time": "2022-11-30T15:45:31.116851",
     "exception": false,
     "start_time": "2022-11-30T15:45:31.110083",
     "status": "completed"
    },
    "tags": []
   },
   "source": [
    "**This notebook is an exercise in the [Data Cleaning](https://www.kaggle.com/learn/data-cleaning) course.  You can reference the tutorial at [this link](https://www.kaggle.com/alexisbcook/inconsistent-data-entry).**\n",
    "\n",
    "---\n"
   ]
  },
  {
   "cell_type": "markdown",
   "id": "3aea3891",
   "metadata": {
    "papermill": {
     "duration": 0.004667,
     "end_time": "2022-11-30T15:45:31.126723",
     "exception": false,
     "start_time": "2022-11-30T15:45:31.122056",
     "status": "completed"
    },
    "tags": []
   },
   "source": [
    "In this exercise, you'll apply what you learned in the **Inconsistent data entry** tutorial.\n",
    "\n",
    "# Setup\n",
    "\n",
    "The questions below will give you feedback on your work. Run the following cell to set up the feedback system."
   ]
  },
  {
   "cell_type": "code",
   "execution_count": 1,
   "id": "4b2e95d0",
   "metadata": {
    "execution": {
     "iopub.execute_input": "2022-11-30T15:45:31.140131Z",
     "iopub.status.busy": "2022-11-30T15:45:31.138766Z",
     "iopub.status.idle": "2022-11-30T15:45:31.362550Z",
     "shell.execute_reply": "2022-11-30T15:45:31.361285Z"
    },
    "papermill": {
     "duration": 0.233213,
     "end_time": "2022-11-30T15:45:31.365293",
     "exception": false,
     "start_time": "2022-11-30T15:45:31.132080",
     "status": "completed"
    },
    "tags": []
   },
   "outputs": [
    {
     "name": "stdout",
     "output_type": "stream",
     "text": [
      "Setup Complete\n"
     ]
    }
   ],
   "source": [
    "from learntools.core import binder\n",
    "binder.bind(globals())\n",
    "from learntools.data_cleaning.ex5 import *\n",
    "print(\"Setup Complete\")"
   ]
  },
  {
   "cell_type": "markdown",
   "id": "a3559ef0",
   "metadata": {
    "papermill": {
     "duration": 0.005036,
     "end_time": "2022-11-30T15:45:31.375678",
     "exception": false,
     "start_time": "2022-11-30T15:45:31.370642",
     "status": "completed"
    },
    "tags": []
   },
   "source": [
    "# Get our environment set up\n",
    "\n",
    "The first thing we'll need to do is load in the libraries and dataset we'll be using.  We use the same dataset from the tutorial."
   ]
  },
  {
   "cell_type": "code",
   "execution_count": 2,
   "id": "dfccc150",
   "metadata": {
    "execution": {
     "iopub.execute_input": "2022-11-30T15:45:31.388107Z",
     "iopub.status.busy": "2022-11-30T15:45:31.387102Z",
     "iopub.status.idle": "2022-11-30T15:45:31.406022Z",
     "shell.execute_reply": "2022-11-30T15:45:31.404864Z"
    },
    "papermill": {
     "duration": 0.027734,
     "end_time": "2022-11-30T15:45:31.408533",
     "exception": false,
     "start_time": "2022-11-30T15:45:31.380799",
     "status": "completed"
    },
    "tags": []
   },
   "outputs": [],
   "source": [
    "# modules we'll use\n",
    "import pandas as pd\n",
    "import numpy as np\n",
    "\n",
    "# helpful modules\n",
    "import fuzzywuzzy\n",
    "from fuzzywuzzy import process\n",
    "import chardet\n",
    "\n",
    "# read in all our data\n",
    "professors = pd.read_csv(\"../input/pakistan-intellectual-capital/pakistan_intellectual_capital.csv\")\n",
    "\n",
    "# set seed for reproducibility\n",
    "np.random.seed(0)"
   ]
  },
  {
   "cell_type": "markdown",
   "id": "7294d471",
   "metadata": {
    "papermill": {
     "duration": 0.004894,
     "end_time": "2022-11-30T15:45:31.418754",
     "exception": false,
     "start_time": "2022-11-30T15:45:31.413860",
     "status": "completed"
    },
    "tags": []
   },
   "source": [
    "Next, we'll redo all of the work that we did in the tutorial."
   ]
  },
  {
   "cell_type": "code",
   "execution_count": 3,
   "id": "c421b148",
   "metadata": {
    "execution": {
     "iopub.execute_input": "2022-11-30T15:45:31.431080Z",
     "iopub.status.busy": "2022-11-30T15:45:31.430406Z",
     "iopub.status.idle": "2022-11-30T15:45:31.446388Z",
     "shell.execute_reply": "2022-11-30T15:45:31.444566Z"
    },
    "papermill": {
     "duration": 0.026364,
     "end_time": "2022-11-30T15:45:31.450206",
     "exception": false,
     "start_time": "2022-11-30T15:45:31.423842",
     "status": "completed"
    },
    "tags": []
   },
   "outputs": [
    {
     "name": "stdout",
     "output_type": "stream",
     "text": [
      "All done!\n"
     ]
    }
   ],
   "source": [
    "# convert to lower case\n",
    "professors['Country'] = professors['Country'].str.lower()\n",
    "# remove trailing white spaces\n",
    "professors['Country'] = professors['Country'].str.strip()\n",
    "\n",
    "# get the top 10 closest matches to \"south korea\"\n",
    "countries = professors['Country'].unique()\n",
    "matches = fuzzywuzzy.process.extract(\"south korea\", countries, limit=10, scorer=fuzzywuzzy.fuzz.token_sort_ratio)\n",
    "\n",
    "def replace_matches_in_column(df, column, string_to_match, min_ratio = 47):\n",
    "    # get a list of unique strings\n",
    "    strings = df[column].unique()\n",
    "    \n",
    "    # get the top 10 closest matches to our input string\n",
    "    matches = fuzzywuzzy.process.extract(string_to_match, strings, \n",
    "                                         limit=10, scorer=fuzzywuzzy.fuzz.token_sort_ratio)\n",
    "\n",
    "    # only get matches with a ratio > 90\n",
    "    close_matches = [matches[0] for matches in matches if matches[1] >= min_ratio]\n",
    "\n",
    "    # get the rows of all the close matches in our dataframe\n",
    "    rows_with_matches = df[column].isin(close_matches)\n",
    "\n",
    "    # replace all rows with close matches with the input matches \n",
    "    df.loc[rows_with_matches, column] = string_to_match\n",
    "    \n",
    "    # let us know the function's done\n",
    "    print(\"All done!\")\n",
    "    \n",
    "replace_matches_in_column(df=professors, column='Country', string_to_match=\"south korea\")\n",
    "countries = professors['Country'].unique()"
   ]
  },
  {
   "cell_type": "markdown",
   "id": "6599cf94",
   "metadata": {
    "papermill": {
     "duration": 0.005548,
     "end_time": "2022-11-30T15:45:31.461717",
     "exception": false,
     "start_time": "2022-11-30T15:45:31.456169",
     "status": "completed"
    },
    "tags": []
   },
   "source": [
    "# 1) Examine another column\n",
    "\n",
    "Write code below to take a look at all the unique values in the \"Graduated from\" column."
   ]
  },
  {
   "cell_type": "code",
   "execution_count": 4,
   "id": "d1fd5c5d",
   "metadata": {
    "execution": {
     "iopub.execute_input": "2022-11-30T15:45:31.474620Z",
     "iopub.status.busy": "2022-11-30T15:45:31.473556Z",
     "iopub.status.idle": "2022-11-30T15:45:31.479706Z",
     "shell.execute_reply": "2022-11-30T15:45:31.478689Z"
    },
    "papermill": {
     "duration": 0.0152,
     "end_time": "2022-11-30T15:45:31.482229",
     "exception": false,
     "start_time": "2022-11-30T15:45:31.467029",
     "status": "completed"
    },
    "tags": []
   },
   "outputs": [],
   "source": [
    "# TODO: Your code here\n",
    "unis = professors['Graduated from'].unique()"
   ]
  },
  {
   "cell_type": "markdown",
   "id": "57573a4c",
   "metadata": {
    "papermill": {
     "duration": 0.00668,
     "end_time": "2022-11-30T15:45:31.494299",
     "exception": false,
     "start_time": "2022-11-30T15:45:31.487619",
     "status": "completed"
    },
    "tags": []
   },
   "source": [
    "Do you notice any inconsistencies in the data?  Can any of the inconsistencies in the data be fixed by removing white spaces at the beginning and end of cells?\n",
    "\n",
    "Once you have answered these questions, run the code cell below to get credit for your work."
   ]
  },
  {
   "cell_type": "code",
   "execution_count": 5,
   "id": "1682fdb0",
   "metadata": {
    "execution": {
     "iopub.execute_input": "2022-11-30T15:45:31.506713Z",
     "iopub.status.busy": "2022-11-30T15:45:31.506298Z",
     "iopub.status.idle": "2022-11-30T15:45:31.517058Z",
     "shell.execute_reply": "2022-11-30T15:45:31.515839Z"
    },
    "papermill": {
     "duration": 0.019603,
     "end_time": "2022-11-30T15:45:31.519141",
     "exception": false,
     "start_time": "2022-11-30T15:45:31.499538",
     "status": "completed"
    },
    "tags": []
   },
   "outputs": [
    {
     "data": {
      "application/javascript": [
       "parent.postMessage({\"jupyterEvent\": \"custom.exercise_interaction\", \"data\": {\"outcomeType\": 1, \"valueTowardsCompletion\": 0.3333333333333333, \"interactionType\": 1, \"questionType\": 4, \"questionId\": \"1_ExamineProvince\", \"learnToolsVersion\": \"0.3.4\", \"failureMessage\": \"\", \"exceptionClass\": \"\", \"trace\": \"\"}}, \"*\")"
      ],
      "text/plain": [
       "<IPython.core.display.Javascript object>"
      ]
     },
     "metadata": {},
     "output_type": "display_data"
    },
    {
     "data": {
      "text/markdown": [
       "<span style=\"color:#33cc33\">Correct:</span> \n",
       "\n",
       "There are inconsistencies that can be fixed by removing white spaces at the beginning and end of cells.  For instance, \"University of Central Florida\" and \" University of Central Florida\" both appear in the column."
      ],
      "text/plain": [
       "Correct: \n",
       "\n",
       "There are inconsistencies that can be fixed by removing white spaces at the beginning and end of cells.  For instance, \"University of Central Florida\" and \" University of Central Florida\" both appear in the column."
      ]
     },
     "metadata": {},
     "output_type": "display_data"
    }
   ],
   "source": [
    "# Check your answer (Run this code cell to receive credit!)\n",
    "q1.check()"
   ]
  },
  {
   "cell_type": "code",
   "execution_count": 6,
   "id": "54d09323",
   "metadata": {
    "execution": {
     "iopub.execute_input": "2022-11-30T15:45:31.532211Z",
     "iopub.status.busy": "2022-11-30T15:45:31.531207Z",
     "iopub.status.idle": "2022-11-30T15:45:31.536370Z",
     "shell.execute_reply": "2022-11-30T15:45:31.535096Z"
    },
    "papermill": {
     "duration": 0.013985,
     "end_time": "2022-11-30T15:45:31.538647",
     "exception": false,
     "start_time": "2022-11-30T15:45:31.524662",
     "status": "completed"
    },
    "tags": []
   },
   "outputs": [],
   "source": [
    "# Line below will give you a hint\n",
    "#q1.hint()"
   ]
  },
  {
   "cell_type": "markdown",
   "id": "6eaa8ed3",
   "metadata": {
    "papermill": {
     "duration": 0.005006,
     "end_time": "2022-11-30T15:45:31.549067",
     "exception": false,
     "start_time": "2022-11-30T15:45:31.544061",
     "status": "completed"
    },
    "tags": []
   },
   "source": [
    "# 2) Do some text pre-processing\n",
    "\n",
    "Convert every entry in the \"Graduated from\" column in the `professors` DataFrame to remove white spaces at the beginning and end of cells."
   ]
  },
  {
   "cell_type": "code",
   "execution_count": 7,
   "id": "2f4bda63",
   "metadata": {
    "execution": {
     "iopub.execute_input": "2022-11-30T15:45:31.561666Z",
     "iopub.status.busy": "2022-11-30T15:45:31.561229Z",
     "iopub.status.idle": "2022-11-30T15:45:31.575124Z",
     "shell.execute_reply": "2022-11-30T15:45:31.574061Z"
    },
    "papermill": {
     "duration": 0.023186,
     "end_time": "2022-11-30T15:45:31.577477",
     "exception": false,
     "start_time": "2022-11-30T15:45:31.554291",
     "status": "completed"
    },
    "tags": []
   },
   "outputs": [
    {
     "data": {
      "application/javascript": [
       "parent.postMessage({\"jupyterEvent\": \"custom.exercise_interaction\", \"data\": {\"outcomeType\": 1, \"valueTowardsCompletion\": 0.3333333333333333, \"interactionType\": 1, \"questionType\": 1, \"questionId\": \"2_TextProcessing\", \"learnToolsVersion\": \"0.3.4\", \"failureMessage\": \"\", \"exceptionClass\": \"\", \"trace\": \"\"}}, \"*\")"
      ],
      "text/plain": [
       "<IPython.core.display.Javascript object>"
      ]
     },
     "metadata": {},
     "output_type": "display_data"
    },
    {
     "data": {
      "text/markdown": [
       "<span style=\"color:#33cc33\">Correct</span>"
      ],
      "text/plain": [
       "Correct"
      ]
     },
     "metadata": {},
     "output_type": "display_data"
    }
   ],
   "source": [
    "# TODO: Your code here\n",
    "professors['Graduated from'] = professors['Graduated from'].str.strip()\n",
    "\n",
    "# Check your answer\n",
    "q2.check()"
   ]
  },
  {
   "cell_type": "code",
   "execution_count": 8,
   "id": "0368926d",
   "metadata": {
    "execution": {
     "iopub.execute_input": "2022-11-30T15:45:31.592267Z",
     "iopub.status.busy": "2022-11-30T15:45:31.591588Z",
     "iopub.status.idle": "2022-11-30T15:45:31.595964Z",
     "shell.execute_reply": "2022-11-30T15:45:31.594927Z"
    },
    "papermill": {
     "duration": 0.014381,
     "end_time": "2022-11-30T15:45:31.597966",
     "exception": false,
     "start_time": "2022-11-30T15:45:31.583585",
     "status": "completed"
    },
    "tags": []
   },
   "outputs": [],
   "source": [
    "# Lines below will give you a hint or solution code\n",
    "#q2.hint()\n",
    "#2.solution()"
   ]
  },
  {
   "cell_type": "markdown",
   "id": "479e0d45",
   "metadata": {
    "papermill": {
     "duration": 0.00524,
     "end_time": "2022-11-30T15:45:31.609055",
     "exception": false,
     "start_time": "2022-11-30T15:45:31.603815",
     "status": "completed"
    },
    "tags": []
   },
   "source": [
    "# 3) Continue working with countries\n",
    "\n",
    "In the tutorial, we focused on cleaning up inconsistencies in the \"Country\" column.  Run the code cell below to view the list of unique values that we ended with."
   ]
  },
  {
   "cell_type": "code",
   "execution_count": 9,
   "id": "11f33f6b",
   "metadata": {
    "execution": {
     "iopub.execute_input": "2022-11-30T15:45:31.622147Z",
     "iopub.status.busy": "2022-11-30T15:45:31.621535Z",
     "iopub.status.idle": "2022-11-30T15:45:31.628922Z",
     "shell.execute_reply": "2022-11-30T15:45:31.628021Z"
    },
    "papermill": {
     "duration": 0.016293,
     "end_time": "2022-11-30T15:45:31.630961",
     "exception": false,
     "start_time": "2022-11-30T15:45:31.614668",
     "status": "completed"
    },
    "tags": []
   },
   "outputs": [
    {
     "data": {
      "text/plain": [
       "array(['australia', 'austria', 'canada', 'china', 'finland', 'france',\n",
       "       'germany', 'greece', 'hongkong', 'ireland', 'italy', 'japan',\n",
       "       'macau', 'malaysia', 'mauritius', 'netherland', 'new zealand',\n",
       "       'norway', 'pakistan', 'portugal', 'russian federation',\n",
       "       'saudi arabia', 'scotland', 'singapore', 'south korea', 'spain',\n",
       "       'sweden', 'thailand', 'turkey', 'uk', 'urbana', 'usa', 'usofa'],\n",
       "      dtype=object)"
      ]
     },
     "execution_count": 9,
     "metadata": {},
     "output_type": "execute_result"
    }
   ],
   "source": [
    "# get all the unique values in the 'City' column\n",
    "countries = professors['Country'].unique()\n",
    "\n",
    "# sort them alphabetically and then take a closer look\n",
    "countries.sort()\n",
    "countries"
   ]
  },
  {
   "cell_type": "markdown",
   "id": "b4ba58b9",
   "metadata": {
    "papermill": {
     "duration": 0.005382,
     "end_time": "2022-11-30T15:45:31.642111",
     "exception": false,
     "start_time": "2022-11-30T15:45:31.636729",
     "status": "completed"
    },
    "tags": []
   },
   "source": [
    "Take another look at the \"Country\" column and see if there's any more data cleaning we need to do.\n",
    "\n",
    "It looks like 'usa' and 'usofa' should be the same country.  Correct the \"Country\" column in the dataframe to replace 'usofa' with 'usa'.\n",
    "\n",
    "**Use the most recent version of the DataFrame (with the whitespaces at the beginning and end of cells removed) from question 2.**"
   ]
  },
  {
   "cell_type": "code",
   "execution_count": 10,
   "id": "e1554917",
   "metadata": {
    "execution": {
     "iopub.execute_input": "2022-11-30T15:45:31.655646Z",
     "iopub.status.busy": "2022-11-30T15:45:31.654911Z",
     "iopub.status.idle": "2022-11-30T15:45:31.670092Z",
     "shell.execute_reply": "2022-11-30T15:45:31.668598Z"
    },
    "papermill": {
     "duration": 0.024447,
     "end_time": "2022-11-30T15:45:31.672216",
     "exception": false,
     "start_time": "2022-11-30T15:45:31.647769",
     "status": "completed"
    },
    "tags": []
   },
   "outputs": [
    {
     "name": "stdout",
     "output_type": "stream",
     "text": [
      "All done!\n"
     ]
    },
    {
     "data": {
      "application/javascript": [
       "parent.postMessage({\"jupyterEvent\": \"custom.exercise_interaction\", \"data\": {\"outcomeType\": 1, \"valueTowardsCompletion\": 0.3333333333333333, \"interactionType\": 1, \"questionType\": 1, \"questionId\": \"3_WorkingWithCities\", \"learnToolsVersion\": \"0.3.4\", \"failureMessage\": \"\", \"exceptionClass\": \"\", \"trace\": \"\"}}, \"*\")"
      ],
      "text/plain": [
       "<IPython.core.display.Javascript object>"
      ]
     },
     "metadata": {},
     "output_type": "display_data"
    },
    {
     "data": {
      "text/markdown": [
       "<span style=\"color:#33cc33\">Correct</span>"
      ],
      "text/plain": [
       "Correct"
      ]
     },
     "metadata": {},
     "output_type": "display_data"
    }
   ],
   "source": [
    "# TODO: Your code here!\n",
    "matches = fuzzywuzzy.process.extract(\"usa\", countries, limit=10, scorer=fuzzywuzzy.fuzz.token_sort_ratio)\n",
    "replace_matches_in_column(df=professors, column='Country', string_to_match=\"usa\", min_ratio=70)\n",
    "\n",
    "# Check your answer\n",
    "q3.check()"
   ]
  },
  {
   "cell_type": "code",
   "execution_count": 11,
   "id": "f8491222",
   "metadata": {
    "execution": {
     "iopub.execute_input": "2022-11-30T15:45:31.685786Z",
     "iopub.status.busy": "2022-11-30T15:45:31.685360Z",
     "iopub.status.idle": "2022-11-30T15:45:31.690307Z",
     "shell.execute_reply": "2022-11-30T15:45:31.688911Z"
    },
    "papermill": {
     "duration": 0.014163,
     "end_time": "2022-11-30T15:45:31.692326",
     "exception": false,
     "start_time": "2022-11-30T15:45:31.678163",
     "status": "completed"
    },
    "tags": []
   },
   "outputs": [],
   "source": [
    "# Lines below will give you a hint or solution code\n",
    "#q3.hint()\n",
    "#q3.solution()"
   ]
  },
  {
   "cell_type": "markdown",
   "id": "b2ac2194",
   "metadata": {
    "papermill": {
     "duration": 0.005702,
     "end_time": "2022-11-30T15:45:31.704245",
     "exception": false,
     "start_time": "2022-11-30T15:45:31.698543",
     "status": "completed"
    },
    "tags": []
   },
   "source": [
    "# Congratulations!\n",
    "\n",
    "Congratulations for completing the **Data Cleaning** course on Kaggle Learn!\n",
    "\n",
    "To practice your new skills, you're encouraged to download and investigate some of [Kaggle's Datasets](https://www.kaggle.com/datasets)."
   ]
  },
  {
   "cell_type": "markdown",
   "id": "7458619b",
   "metadata": {
    "papermill": {
     "duration": 0.005644,
     "end_time": "2022-11-30T15:45:31.715931",
     "exception": false,
     "start_time": "2022-11-30T15:45:31.710287",
     "status": "completed"
    },
    "tags": []
   },
   "source": [
    "---\n",
    "\n",
    "\n",
    "\n",
    "\n",
    "*Have questions or comments? Visit the [course discussion forum](https://www.kaggle.com/learn/data-cleaning/discussion) to chat with other learners.*"
   ]
  }
 ],
 "metadata": {
  "kernelspec": {
   "display_name": "Python 3",
   "language": "python",
   "name": "python3"
  },
  "language_info": {
   "codemirror_mode": {
    "name": "ipython",
    "version": 3
   },
   "file_extension": ".py",
   "mimetype": "text/x-python",
   "name": "python",
   "nbconvert_exporter": "python",
   "pygments_lexer": "ipython3",
   "version": "3.7.12"
  },
  "papermill": {
   "default_parameters": {},
   "duration": 9.683638,
   "end_time": "2022-11-30T15:45:32.344862",
   "environment_variables": {},
   "exception": null,
   "input_path": "__notebook__.ipynb",
   "output_path": "__notebook__.ipynb",
   "parameters": {},
   "start_time": "2022-11-30T15:45:22.661224",
   "version": "2.3.4"
  }
 },
 "nbformat": 4,
 "nbformat_minor": 5
}
