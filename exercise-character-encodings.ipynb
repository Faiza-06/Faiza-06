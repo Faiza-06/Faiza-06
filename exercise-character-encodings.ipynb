{
 "cells": [
  {
   "cell_type": "markdown",
   "id": "6409871b",
   "metadata": {
    "papermill": {
     "duration": 0.007408,
     "end_time": "2022-11-30T15:38:21.592022",
     "exception": false,
     "start_time": "2022-11-30T15:38:21.584614",
     "status": "completed"
    },
    "tags": []
   },
   "source": [
    "**This notebook is an exercise in the [Data Cleaning](https://www.kaggle.com/learn/data-cleaning) course.  You can reference the tutorial at [this link](https://www.kaggle.com/alexisbcook/character-encodings).**\n",
    "\n",
    "---\n"
   ]
  },
  {
   "cell_type": "markdown",
   "id": "d4913772",
   "metadata": {
    "papermill": {
     "duration": 0.004685,
     "end_time": "2022-11-30T15:38:21.602224",
     "exception": false,
     "start_time": "2022-11-30T15:38:21.597539",
     "status": "completed"
    },
    "tags": []
   },
   "source": [
    "In this exercise, you'll apply what you learned in the **Character encodings** tutorial.\n",
    "\n",
    "# Setup\n",
    "\n",
    "The questions below will give you feedback on your work. Run the following cell to set up the feedback system."
   ]
  },
  {
   "cell_type": "code",
   "execution_count": 1,
   "id": "7d08f46d",
   "metadata": {
    "execution": {
     "iopub.execute_input": "2022-11-30T15:38:21.613837Z",
     "iopub.status.busy": "2022-11-30T15:38:21.613393Z",
     "iopub.status.idle": "2022-11-30T15:38:21.714941Z",
     "shell.execute_reply": "2022-11-30T15:38:21.713495Z"
    },
    "papermill": {
     "duration": 0.110569,
     "end_time": "2022-11-30T15:38:21.717765",
     "exception": false,
     "start_time": "2022-11-30T15:38:21.607196",
     "status": "completed"
    },
    "tags": []
   },
   "outputs": [
    {
     "name": "stdout",
     "output_type": "stream",
     "text": [
      "Setup Complete\n"
     ]
    }
   ],
   "source": [
    "from learntools.core import binder\n",
    "binder.bind(globals())\n",
    "from learntools.data_cleaning.ex4 import *\n",
    "print(\"Setup Complete\")"
   ]
  },
  {
   "cell_type": "markdown",
   "id": "ecb8a99f",
   "metadata": {
    "papermill": {
     "duration": 0.004884,
     "end_time": "2022-11-30T15:38:21.727954",
     "exception": false,
     "start_time": "2022-11-30T15:38:21.723070",
     "status": "completed"
    },
    "tags": []
   },
   "source": [
    "# Get our environment set up\n",
    "\n",
    "The first thing we'll need to do is load in the libraries we'll be using."
   ]
  },
  {
   "cell_type": "code",
   "execution_count": 2,
   "id": "3a22bbad",
   "metadata": {
    "execution": {
     "iopub.execute_input": "2022-11-30T15:38:21.739702Z",
     "iopub.status.busy": "2022-11-30T15:38:21.739305Z",
     "iopub.status.idle": "2022-11-30T15:38:21.744303Z",
     "shell.execute_reply": "2022-11-30T15:38:21.743199Z"
    },
    "papermill": {
     "duration": 0.013674,
     "end_time": "2022-11-30T15:38:21.746521",
     "exception": false,
     "start_time": "2022-11-30T15:38:21.732847",
     "status": "completed"
    },
    "tags": []
   },
   "outputs": [],
   "source": [
    "# modules we'll use\n",
    "import pandas as pd\n",
    "import numpy as np\n",
    "\n",
    "# helpful character encoding module\n",
    "import chardet\n",
    "\n",
    "# set seed for reproducibility\n",
    "np.random.seed(0)"
   ]
  },
  {
   "cell_type": "markdown",
   "id": "adc684a1",
   "metadata": {
    "papermill": {
     "duration": 0.004566,
     "end_time": "2022-11-30T15:38:21.756076",
     "exception": false,
     "start_time": "2022-11-30T15:38:21.751510",
     "status": "completed"
    },
    "tags": []
   },
   "source": [
    "# 1) What are encodings?\n",
    "\n",
    "You're working with a dataset composed of bytes.  Run the code cell below to print a sample entry."
   ]
  },
  {
   "cell_type": "code",
   "execution_count": 3,
   "id": "757b9c77",
   "metadata": {
    "execution": {
     "iopub.execute_input": "2022-11-30T15:38:21.767992Z",
     "iopub.status.busy": "2022-11-30T15:38:21.767240Z",
     "iopub.status.idle": "2022-11-30T15:38:21.780165Z",
     "shell.execute_reply": "2022-11-30T15:38:21.772024Z"
    },
    "papermill": {
     "duration": 0.02325,
     "end_time": "2022-11-30T15:38:21.784071",
     "exception": false,
     "start_time": "2022-11-30T15:38:21.760821",
     "status": "completed"
    },
    "tags": []
   },
   "outputs": [
    {
     "name": "stdout",
     "output_type": "stream",
     "text": [
      "b'\\xa7A\\xa6n'\n",
      "data type: <class 'bytes'>\n"
     ]
    }
   ],
   "source": [
    "sample_entry = b'\\xa7A\\xa6n'\n",
    "print(sample_entry)\n",
    "print('data type:', type(sample_entry))"
   ]
  },
  {
   "cell_type": "markdown",
   "id": "c57d1765",
   "metadata": {
    "papermill": {
     "duration": 0.004829,
     "end_time": "2022-11-30T15:38:21.793848",
     "exception": false,
     "start_time": "2022-11-30T15:38:21.789019",
     "status": "completed"
    },
    "tags": []
   },
   "source": [
    "You notice that it doesn't use the standard UTF-8 encoding. \n",
    "\n",
    "Use the next code cell to create a variable `new_entry` that changes the encoding from `\"big5-tw\"` to `\"utf-8\"`.  `new_entry` should have the bytes datatype."
   ]
  },
  {
   "cell_type": "code",
   "execution_count": 4,
   "id": "df029e6e",
   "metadata": {
    "execution": {
     "iopub.execute_input": "2022-11-30T15:38:21.807796Z",
     "iopub.status.busy": "2022-11-30T15:38:21.807086Z",
     "iopub.status.idle": "2022-11-30T15:38:21.823060Z",
     "shell.execute_reply": "2022-11-30T15:38:21.821703Z"
    },
    "papermill": {
     "duration": 0.027193,
     "end_time": "2022-11-30T15:38:21.825882",
     "exception": false,
     "start_time": "2022-11-30T15:38:21.798689",
     "status": "completed"
    },
    "tags": []
   },
   "outputs": [
    {
     "data": {
      "application/javascript": [
       "parent.postMessage({\"jupyterEvent\": \"custom.exercise_interaction\", \"data\": {\"outcomeType\": 1, \"valueTowardsCompletion\": 0.3333333333333333, \"interactionType\": 1, \"questionType\": 1, \"questionId\": \"1_EncodingsIntro\", \"learnToolsVersion\": \"0.3.4\", \"failureMessage\": \"\", \"exceptionClass\": \"\", \"trace\": \"\"}}, \"*\")"
      ],
      "text/plain": [
       "<IPython.core.display.Javascript object>"
      ]
     },
     "metadata": {},
     "output_type": "display_data"
    },
    {
     "data": {
      "text/markdown": [
       "<span style=\"color:#33cc33\">Correct</span>"
      ],
      "text/plain": [
       "Correct"
      ]
     },
     "metadata": {},
     "output_type": "display_data"
    }
   ],
   "source": [
    "before = sample_entry.decode(\"big5-tw\")\n",
    "new_entry = before.encode()\n",
    "\n",
    "# Check your answer\n",
    "q1.check()"
   ]
  },
  {
   "cell_type": "code",
   "execution_count": 5,
   "id": "541ae7b1",
   "metadata": {
    "execution": {
     "iopub.execute_input": "2022-11-30T15:38:21.845032Z",
     "iopub.status.busy": "2022-11-30T15:38:21.844633Z",
     "iopub.status.idle": "2022-11-30T15:38:21.849720Z",
     "shell.execute_reply": "2022-11-30T15:38:21.848329Z"
    },
    "papermill": {
     "duration": 0.018295,
     "end_time": "2022-11-30T15:38:21.852361",
     "exception": false,
     "start_time": "2022-11-30T15:38:21.834066",
     "status": "completed"
    },
    "tags": []
   },
   "outputs": [],
   "source": [
    "# Lines below will give you a hint or solution code\n",
    "#q1.hint()\n",
    "#q1.solution()"
   ]
  },
  {
   "cell_type": "markdown",
   "id": "fc7b88ac",
   "metadata": {
    "papermill": {
     "duration": 0.005821,
     "end_time": "2022-11-30T15:38:21.864283",
     "exception": false,
     "start_time": "2022-11-30T15:38:21.858462",
     "status": "completed"
    },
    "tags": []
   },
   "source": [
    "# 2) Reading in files with encoding problems\n",
    "\n",
    "Use the code cell below to read in this file at path `\"../input/fatal-police-shootings-in-the-us/PoliceKillingsUS.csv\"`.  \n",
    "\n",
    "Figure out what the correct encoding should be and read in the file to a DataFrame `police_killings`."
   ]
  },
  {
   "cell_type": "code",
   "execution_count": 6,
   "id": "3c2a098b",
   "metadata": {
    "execution": {
     "iopub.execute_input": "2022-11-30T15:38:21.878009Z",
     "iopub.status.busy": "2022-11-30T15:38:21.877505Z",
     "iopub.status.idle": "2022-11-30T15:38:21.908648Z",
     "shell.execute_reply": "2022-11-30T15:38:21.907714Z"
    },
    "papermill": {
     "duration": 0.041381,
     "end_time": "2022-11-30T15:38:21.911481",
     "exception": false,
     "start_time": "2022-11-30T15:38:21.870100",
     "status": "completed"
    },
    "tags": []
   },
   "outputs": [
    {
     "data": {
      "application/javascript": [
       "parent.postMessage({\"jupyterEvent\": \"custom.exercise_interaction\", \"data\": {\"outcomeType\": 1, \"valueTowardsCompletion\": 0.3333333333333333, \"interactionType\": 1, \"questionType\": 1, \"questionId\": \"2_ReadIn\", \"learnToolsVersion\": \"0.3.4\", \"failureMessage\": \"\", \"exceptionClass\": \"\", \"trace\": \"\"}}, \"*\")"
      ],
      "text/plain": [
       "<IPython.core.display.Javascript object>"
      ]
     },
     "metadata": {},
     "output_type": "display_data"
    },
    {
     "data": {
      "text/markdown": [
       "<span style=\"color:#33cc33\">Correct</span>"
      ],
      "text/plain": [
       "Correct"
      ]
     },
     "metadata": {},
     "output_type": "display_data"
    }
   ],
   "source": [
    "# TODO: Load in the DataFrame correctly.\n",
    "police_killings = pd.read_csv(\"../input/fatal-police-shootings-in-the-us/PoliceKillingsUS.csv\", encoding='Windows-1252')\n",
    "\n",
    "# Check your answer\n",
    "q2.check()"
   ]
  },
  {
   "cell_type": "markdown",
   "id": "97552a65",
   "metadata": {
    "papermill": {
     "duration": 0.006074,
     "end_time": "2022-11-30T15:38:21.924363",
     "exception": false,
     "start_time": "2022-11-30T15:38:21.918289",
     "status": "completed"
    },
    "tags": []
   },
   "source": [
    "Feel free to use any additional code cells for supplemental work.  To get credit for finishing this question, you'll need to run `q2.check()` and get a result of **Correct**."
   ]
  },
  {
   "cell_type": "code",
   "execution_count": 7,
   "id": "2150b4da",
   "metadata": {
    "execution": {
     "iopub.execute_input": "2022-11-30T15:38:21.937565Z",
     "iopub.status.busy": "2022-11-30T15:38:21.936743Z",
     "iopub.status.idle": "2022-11-30T15:38:21.941588Z",
     "shell.execute_reply": "2022-11-30T15:38:21.940716Z"
    },
    "papermill": {
     "duration": 0.014008,
     "end_time": "2022-11-30T15:38:21.944010",
     "exception": false,
     "start_time": "2022-11-30T15:38:21.930002",
     "status": "completed"
    },
    "tags": []
   },
   "outputs": [],
   "source": [
    "# (Optional) Use this code cell for any additional work."
   ]
  },
  {
   "cell_type": "code",
   "execution_count": 8,
   "id": "658b06b6",
   "metadata": {
    "execution": {
     "iopub.execute_input": "2022-11-30T15:38:21.959988Z",
     "iopub.status.busy": "2022-11-30T15:38:21.959295Z",
     "iopub.status.idle": "2022-11-30T15:38:21.963106Z",
     "shell.execute_reply": "2022-11-30T15:38:21.962330Z"
    },
    "papermill": {
     "duration": 0.01364,
     "end_time": "2022-11-30T15:38:21.965452",
     "exception": false,
     "start_time": "2022-11-30T15:38:21.951812",
     "status": "completed"
    },
    "tags": []
   },
   "outputs": [],
   "source": [
    "# Lines below will give you a hint or solution code\n",
    "#q2.hint()\n",
    "#q2.solution()"
   ]
  },
  {
   "cell_type": "markdown",
   "id": "32f1cc82",
   "metadata": {
    "papermill": {
     "duration": 0.005338,
     "end_time": "2022-11-30T15:38:21.976821",
     "exception": false,
     "start_time": "2022-11-30T15:38:21.971483",
     "status": "completed"
    },
    "tags": []
   },
   "source": [
    "# 3) Saving your files with UTF-8 encoding\n",
    "\n",
    "Save a version of the police killings dataset to CSV with UTF-8 encoding.  Your answer will be marked correct after saving this file.  \n",
    "\n",
    "Note: When using the `to_csv()` method, supply only the name of the file (e.g., `\"my_file.csv\"`).  This saves the file at the filepath `\"/kaggle/working/my_file.csv\"`."
   ]
  },
  {
   "cell_type": "code",
   "execution_count": 9,
   "id": "e5cd3885",
   "metadata": {
    "execution": {
     "iopub.execute_input": "2022-11-30T15:38:21.990398Z",
     "iopub.status.busy": "2022-11-30T15:38:21.989997Z",
     "iopub.status.idle": "2022-11-30T15:38:22.031041Z",
     "shell.execute_reply": "2022-11-30T15:38:22.030108Z"
    },
    "papermill": {
     "duration": 0.054434,
     "end_time": "2022-11-30T15:38:22.037150",
     "exception": false,
     "start_time": "2022-11-30T15:38:21.982716",
     "status": "completed"
    },
    "tags": []
   },
   "outputs": [
    {
     "data": {
      "application/javascript": [
       "parent.postMessage({\"jupyterEvent\": \"custom.exercise_interaction\", \"data\": {\"outcomeType\": 1, \"valueTowardsCompletion\": 0.3333333333333333, \"interactionType\": 1, \"questionType\": 2, \"questionId\": \"3_SaveCSV\", \"learnToolsVersion\": \"0.3.4\", \"failureMessage\": \"\", \"exceptionClass\": \"\", \"trace\": \"\"}}, \"*\")"
      ],
      "text/plain": [
       "<IPython.core.display.Javascript object>"
      ]
     },
     "metadata": {},
     "output_type": "display_data"
    },
    {
     "data": {
      "text/markdown": [
       "<span style=\"color:#33cc33\">Correct</span>"
      ],
      "text/plain": [
       "Correct"
      ]
     },
     "metadata": {},
     "output_type": "display_data"
    }
   ],
   "source": [
    "# TODO: Save the police killings dataset to CSV\n",
    "police_killings.to_csv(\"my_file.csv\")\n",
    "# Check your answer\n",
    "q3.check()"
   ]
  },
  {
   "cell_type": "code",
   "execution_count": 10,
   "id": "9e6aac8e",
   "metadata": {
    "execution": {
     "iopub.execute_input": "2022-11-30T15:38:22.056364Z",
     "iopub.status.busy": "2022-11-30T15:38:22.055915Z",
     "iopub.status.idle": "2022-11-30T15:38:22.059952Z",
     "shell.execute_reply": "2022-11-30T15:38:22.059188Z"
    },
    "papermill": {
     "duration": 0.016719,
     "end_time": "2022-11-30T15:38:22.062672",
     "exception": false,
     "start_time": "2022-11-30T15:38:22.045953",
     "status": "completed"
    },
    "tags": []
   },
   "outputs": [],
   "source": [
    "# Lines below will give you a hint or solution code\n",
    "#q3.hint()\n",
    "#q3.solution()"
   ]
  },
  {
   "cell_type": "markdown",
   "id": "e88f0ffe",
   "metadata": {
    "papermill": {
     "duration": 0.008041,
     "end_time": "2022-11-30T15:38:22.079094",
     "exception": false,
     "start_time": "2022-11-30T15:38:22.071053",
     "status": "completed"
    },
    "tags": []
   },
   "source": [
    "# (Optional) More practice\n",
    "\n",
    "Check out [this dataset of files in different character encodings](https://www.kaggle.com/rtatman/character-encoding-examples). Can you read in all the files with their original encodings and them save them out as UTF-8 files?\n",
    "\n",
    "If you have a file that's in UTF-8 but has just a couple of weird-looking characters in it, you can try out the [ftfy module](https://ftfy.readthedocs.io/en/latest/#) and see if it helps. \n",
    "\n",
    "# Keep going\n",
    "\n",
    "In the final lesson, learn how to [**clean up inconsistent text entries**](https://www.kaggle.com/alexisbcook/inconsistent-data-entry) in your dataset."
   ]
  },
  {
   "cell_type": "markdown",
   "id": "d1c610bc",
   "metadata": {
    "papermill": {
     "duration": 0.006997,
     "end_time": "2022-11-30T15:38:22.093824",
     "exception": false,
     "start_time": "2022-11-30T15:38:22.086827",
     "status": "completed"
    },
    "tags": []
   },
   "source": [
    "---\n",
    "\n",
    "\n",
    "\n",
    "\n",
    "*Have questions or comments? Visit the [course discussion forum](https://www.kaggle.com/learn/data-cleaning/discussion) to chat with other learners.*"
   ]
  }
 ],
 "metadata": {
  "kernelspec": {
   "display_name": "Python 3",
   "language": "python",
   "name": "python3"
  },
  "language_info": {
   "codemirror_mode": {
    "name": "ipython",
    "version": 3
   },
   "file_extension": ".py",
   "mimetype": "text/x-python",
   "name": "python",
   "nbconvert_exporter": "python",
   "pygments_lexer": "ipython3",
   "version": "3.7.12"
  },
  "papermill": {
   "default_parameters": {},
   "duration": 10.25379,
   "end_time": "2022-11-30T15:38:22.821312",
   "environment_variables": {},
   "exception": null,
   "input_path": "__notebook__.ipynb",
   "output_path": "__notebook__.ipynb",
   "parameters": {},
   "start_time": "2022-11-30T15:38:12.567522",
   "version": "2.3.4"
  }
 },
 "nbformat": 4,
 "nbformat_minor": 5
}
